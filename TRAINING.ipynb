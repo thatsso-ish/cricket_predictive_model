{
 "cells": [
  {
   "cell_type": "code",
   "execution_count": 1,
   "id": "c8bd6d71",
   "metadata": {},
   "outputs": [],
   "source": [
    "import pandas as pd\n",
    "import numpy as np"
   ]
  },
  {
   "cell_type": "code",
   "execution_count": 2,
   "id": "e0d72806",
   "metadata": {},
   "outputs": [],
   "source": [
    "pddf = pd.read_csv('NewCricket.csv')"
   ]
  },
  {
   "cell_type": "code",
   "execution_count": 3,
   "id": "8879c4ef",
   "metadata": {},
   "outputs": [],
   "source": [
    "pdDF = pddf.copy()"
   ]
  },
  {
   "cell_type": "code",
   "execution_count": 4,
   "id": "1278a312",
   "metadata": {},
   "outputs": [
    {
     "data": {
      "text/plain": [
       "True"
      ]
     },
     "execution_count": 4,
     "metadata": {},
     "output_type": "execute_result"
    }
   ],
   "source": [
    "pdDF.equals(pddf)"
   ]
  },
  {
   "cell_type": "code",
   "execution_count": 5,
   "id": "af38d903",
   "metadata": {},
   "outputs": [
    {
     "data": {
      "text/plain": [
       "<bound method DataFrame.info of      runs  ballsFaced  minutes  fours  sixes  strikeRate  isNotOut  \\\n",
       "0      15          14       24      0      1         107         0   \n",
       "1      32          28       58      2      0         114         0   \n",
       "2       8          12       15      1      0          66         0   \n",
       "3      38          28       46      2      1         135         0   \n",
       "4       0           6        8      0      0           0         0   \n",
       "..    ...         ...      ...    ...    ...         ...       ...   \n",
       "550    29          23       37      2      1         126         0   \n",
       "551     4           8        9      0      0          50         0   \n",
       "552     5           8       15      0      0          62         0   \n",
       "553     0           0        4      0      0           0         0   \n",
       "554     8          15       20      0      0          53         0   \n",
       "\n",
       "     runningOver  Wickets  Runnings  \n",
       "0            4.2        1        29  \n",
       "1           11.1        3        84  \n",
       "2            7.1        2        45  \n",
       "3           16.3        5       121  \n",
       "4           12.2        4        85  \n",
       "..           ...      ...       ...  \n",
       "550         13.6        7        88  \n",
       "551         12.3        6        80  \n",
       "552         15.2        9        92  \n",
       "553         14.2        8        88  \n",
       "554         18.6       10       108  \n",
       "\n",
       "[555 rows x 10 columns]>"
      ]
     },
     "execution_count": 5,
     "metadata": {},
     "output_type": "execute_result"
    }
   ],
   "source": [
    "pdDF.info"
   ]
  },
  {
   "cell_type": "code",
   "execution_count": 6,
   "id": "bb0b6472",
   "metadata": {},
   "outputs": [
    {
     "name": "stdout",
     "output_type": "stream",
     "text": [
      "<class 'pandas.core.frame.DataFrame'>\n",
      "RangeIndex: 555 entries, 0 to 554\n",
      "Data columns (total 10 columns):\n",
      " #   Column       Non-Null Count  Dtype  \n",
      "---  ------       --------------  -----  \n",
      " 0   runs         555 non-null    int64  \n",
      " 1   ballsFaced   555 non-null    int64  \n",
      " 2   minutes      555 non-null    int64  \n",
      " 3   fours        555 non-null    int64  \n",
      " 4   sixes        555 non-null    int64  \n",
      " 5   strikeRate   555 non-null    int64  \n",
      " 6   isNotOut     555 non-null    int64  \n",
      " 7   runningOver  555 non-null    float64\n",
      " 8   Wickets      555 non-null    int64  \n",
      " 9   Runnings     555 non-null    int64  \n",
      "dtypes: float64(1), int64(9)\n",
      "memory usage: 43.5 KB\n"
     ]
    }
   ],
   "source": [
    "pdDF.info()"
   ]
  },
  {
   "cell_type": "markdown",
   "id": "070d1d09",
   "metadata": {},
   "source": [
    "Using logistic regression to classify"
   ]
  },
  {
   "cell_type": "markdown",
   "id": "4d8a0edd",
   "metadata": {},
   "source": [
    "creating targets"
   ]
  },
  {
   "cell_type": "code",
   "execution_count": 7,
   "id": "949db87b",
   "metadata": {},
   "outputs": [
    {
     "data": {
      "text/plain": [
       "84.0"
      ]
     },
     "execution_count": 7,
     "metadata": {},
     "output_type": "execute_result"
    }
   ],
   "source": [
    "pdDF['Runnings'].median()"
   ]
  },
  {
   "cell_type": "code",
   "execution_count": 8,
   "id": "2ef1d9d5",
   "metadata": {},
   "outputs": [],
   "source": [
    "targets = np.where(pdDF['Runnings'] > pdDF['Runnings'].median(), 1, 0)"
   ]
  },
  {
   "cell_type": "code",
   "execution_count": 9,
   "id": "c5bcb43d",
   "metadata": {},
   "outputs": [
    {
     "data": {
      "text/plain": [
       "array([0, 0, 0, 1, 1, 1, 1, 1, 0, 0, 0, 0, 1, 0, 0, 1, 0, 1, 1, 0, 0, 1,\n",
       "       0, 1, 1, 1, 1, 0, 1, 1, 1, 0, 0, 0, 0, 1, 0, 1, 1, 1, 1, 1, 0, 0,\n",
       "       0, 1, 1, 1, 1, 0, 0, 1, 1, 1, 0, 1, 1, 1, 0, 0, 0, 1, 1, 1, 1, 1,\n",
       "       1, 0, 0, 0, 1, 1, 1, 1, 0, 0, 1, 1, 1, 1, 0, 0, 1, 0, 1, 1, 1, 1,\n",
       "       0, 0, 1, 1, 1, 1, 1, 0, 1, 1, 1, 1, 1, 0, 0, 1, 0, 1, 1, 1, 1, 1,\n",
       "       0, 0, 0, 0, 1, 1, 1, 1, 1, 0, 0, 0, 0, 1, 1, 1, 1, 1, 0, 0, 1, 1,\n",
       "       1, 1, 0, 0, 1, 1, 1, 1, 0, 0, 0, 0, 1, 0, 1, 1, 1, 1, 0, 1, 1, 1,\n",
       "       1, 1, 0, 1, 1, 1, 1, 0, 0, 1, 1, 1, 1, 0, 0, 1, 1, 1, 1, 1, 1, 0,\n",
       "       0, 1, 1, 0, 1, 0, 0, 1, 0, 0, 0, 0, 0, 0, 1, 1, 1, 1, 0, 0, 0, 1,\n",
       "       0, 0, 1, 1, 1, 0, 0, 0, 1, 1, 0, 0, 0, 0, 0, 0, 0, 0, 0, 1, 0, 0,\n",
       "       0, 1, 1, 0, 0, 1, 1, 1, 1, 0, 0, 0, 1, 0, 0, 1, 1, 0, 0, 0, 1, 1,\n",
       "       1, 1, 0, 0, 0, 0, 0, 0, 1, 0, 0, 1, 0, 0, 0, 1, 1, 1, 1, 1, 0, 0,\n",
       "       1, 0, 1, 1, 1, 1, 0, 0, 0, 0, 0, 0, 0, 1, 1, 1, 1, 0, 1, 1, 1, 1,\n",
       "       0, 0, 1, 0, 0, 0, 0, 0, 1, 1, 0, 1, 1, 1, 1, 1, 1, 1, 1, 1, 0, 0,\n",
       "       1, 0, 0, 1, 0, 0, 1, 1, 1, 0, 0, 1, 0, 0, 0, 0, 0, 0, 0, 0, 0, 1,\n",
       "       0, 1, 1, 0, 0, 0, 1, 0, 0, 0, 0, 1, 1, 0, 0, 1, 1, 1, 1, 1, 1, 0,\n",
       "       0, 0, 0, 1, 1, 0, 0, 0, 1, 0, 1, 1, 1, 0, 0, 0, 0, 1, 0, 1, 1, 1,\n",
       "       1, 1, 0, 0, 0, 0, 1, 0, 1, 1, 0, 0, 0, 1, 0, 0, 0, 1, 1, 1, 1, 0,\n",
       "       0, 0, 1, 1, 0, 1, 0, 0, 1, 0, 0, 0, 1, 1, 0, 1, 0, 1, 0, 0, 0, 0,\n",
       "       0, 0, 1, 0, 0, 1, 0, 1, 1, 1, 0, 0, 0, 0, 1, 1, 1, 1, 1, 0, 1, 0,\n",
       "       1, 1, 1, 1, 0, 0, 0, 0, 0, 0, 1, 1, 1, 1, 0, 1, 0, 1, 1, 0, 0, 0,\n",
       "       0, 1, 0, 1, 1, 1, 1, 1, 1, 0, 0, 0, 0, 0, 0, 0, 0, 0, 0, 0, 0, 0,\n",
       "       0, 1, 1, 1, 0, 1, 1, 1, 0, 0, 0, 0, 1, 1, 1, 0, 0, 0, 0, 1, 0, 1,\n",
       "       1, 1, 0, 0, 1, 1, 1, 0, 0, 0, 0, 0, 0, 1, 0, 0, 1, 0, 1, 0, 1, 1,\n",
       "       1, 1, 1, 0, 0, 0, 0, 0, 0, 1, 0, 0, 0, 1, 0, 1, 1, 0, 0, 0, 0, 0,\n",
       "       1, 0, 1, 1, 1])"
      ]
     },
     "execution_count": 9,
     "metadata": {},
     "output_type": "execute_result"
    }
   ],
   "source": [
    "targets"
   ]
  },
  {
   "cell_type": "code",
   "execution_count": 10,
   "id": "e2bcdd5d",
   "metadata": {},
   "outputs": [],
   "source": [
    "pdDF['RunPoints'] = targets"
   ]
  },
  {
   "cell_type": "code",
   "execution_count": 11,
   "id": "59bc218c",
   "metadata": {},
   "outputs": [
    {
     "data": {
      "text/plain": [
       "0.4990990990990991"
      ]
     },
     "execution_count": 11,
     "metadata": {},
     "output_type": "execute_result"
    }
   ],
   "source": [
    "targets.sum()/targets.shape[0]"
   ]
  },
  {
   "cell_type": "code",
   "execution_count": 12,
   "id": "934fba8f",
   "metadata": {},
   "outputs": [
    {
     "data": {
      "text/html": [
       "<div>\n",
       "<style scoped>\n",
       "    .dataframe tbody tr th:only-of-type {\n",
       "        vertical-align: middle;\n",
       "    }\n",
       "\n",
       "    .dataframe tbody tr th {\n",
       "        vertical-align: top;\n",
       "    }\n",
       "\n",
       "    .dataframe thead th {\n",
       "        text-align: right;\n",
       "    }\n",
       "</style>\n",
       "<table border=\"1\" class=\"dataframe\">\n",
       "  <thead>\n",
       "    <tr style=\"text-align: right;\">\n",
       "      <th></th>\n",
       "      <th>runs</th>\n",
       "      <th>ballsFaced</th>\n",
       "      <th>minutes</th>\n",
       "      <th>fours</th>\n",
       "      <th>sixes</th>\n",
       "      <th>strikeRate</th>\n",
       "      <th>runningOver</th>\n",
       "      <th>Wickets</th>\n",
       "      <th>RunPoints</th>\n",
       "    </tr>\n",
       "  </thead>\n",
       "  <tbody>\n",
       "    <tr>\n",
       "      <th>0</th>\n",
       "      <td>15</td>\n",
       "      <td>14</td>\n",
       "      <td>24</td>\n",
       "      <td>0</td>\n",
       "      <td>1</td>\n",
       "      <td>107</td>\n",
       "      <td>4.2</td>\n",
       "      <td>1</td>\n",
       "      <td>0</td>\n",
       "    </tr>\n",
       "    <tr>\n",
       "      <th>1</th>\n",
       "      <td>32</td>\n",
       "      <td>28</td>\n",
       "      <td>58</td>\n",
       "      <td>2</td>\n",
       "      <td>0</td>\n",
       "      <td>114</td>\n",
       "      <td>11.1</td>\n",
       "      <td>3</td>\n",
       "      <td>0</td>\n",
       "    </tr>\n",
       "    <tr>\n",
       "      <th>2</th>\n",
       "      <td>8</td>\n",
       "      <td>12</td>\n",
       "      <td>15</td>\n",
       "      <td>1</td>\n",
       "      <td>0</td>\n",
       "      <td>66</td>\n",
       "      <td>7.1</td>\n",
       "      <td>2</td>\n",
       "      <td>0</td>\n",
       "    </tr>\n",
       "    <tr>\n",
       "      <th>3</th>\n",
       "      <td>38</td>\n",
       "      <td>28</td>\n",
       "      <td>46</td>\n",
       "      <td>2</td>\n",
       "      <td>1</td>\n",
       "      <td>135</td>\n",
       "      <td>16.3</td>\n",
       "      <td>5</td>\n",
       "      <td>1</td>\n",
       "    </tr>\n",
       "    <tr>\n",
       "      <th>4</th>\n",
       "      <td>0</td>\n",
       "      <td>6</td>\n",
       "      <td>8</td>\n",
       "      <td>0</td>\n",
       "      <td>0</td>\n",
       "      <td>0</td>\n",
       "      <td>12.2</td>\n",
       "      <td>4</td>\n",
       "      <td>1</td>\n",
       "    </tr>\n",
       "    <tr>\n",
       "      <th>...</th>\n",
       "      <td>...</td>\n",
       "      <td>...</td>\n",
       "      <td>...</td>\n",
       "      <td>...</td>\n",
       "      <td>...</td>\n",
       "      <td>...</td>\n",
       "      <td>...</td>\n",
       "      <td>...</td>\n",
       "      <td>...</td>\n",
       "    </tr>\n",
       "    <tr>\n",
       "      <th>550</th>\n",
       "      <td>29</td>\n",
       "      <td>23</td>\n",
       "      <td>37</td>\n",
       "      <td>2</td>\n",
       "      <td>1</td>\n",
       "      <td>126</td>\n",
       "      <td>13.6</td>\n",
       "      <td>7</td>\n",
       "      <td>1</td>\n",
       "    </tr>\n",
       "    <tr>\n",
       "      <th>551</th>\n",
       "      <td>4</td>\n",
       "      <td>8</td>\n",
       "      <td>9</td>\n",
       "      <td>0</td>\n",
       "      <td>0</td>\n",
       "      <td>50</td>\n",
       "      <td>12.3</td>\n",
       "      <td>6</td>\n",
       "      <td>0</td>\n",
       "    </tr>\n",
       "    <tr>\n",
       "      <th>552</th>\n",
       "      <td>5</td>\n",
       "      <td>8</td>\n",
       "      <td>15</td>\n",
       "      <td>0</td>\n",
       "      <td>0</td>\n",
       "      <td>62</td>\n",
       "      <td>15.2</td>\n",
       "      <td>9</td>\n",
       "      <td>1</td>\n",
       "    </tr>\n",
       "    <tr>\n",
       "      <th>553</th>\n",
       "      <td>0</td>\n",
       "      <td>0</td>\n",
       "      <td>4</td>\n",
       "      <td>0</td>\n",
       "      <td>0</td>\n",
       "      <td>0</td>\n",
       "      <td>14.2</td>\n",
       "      <td>8</td>\n",
       "      <td>1</td>\n",
       "    </tr>\n",
       "    <tr>\n",
       "      <th>554</th>\n",
       "      <td>8</td>\n",
       "      <td>15</td>\n",
       "      <td>20</td>\n",
       "      <td>0</td>\n",
       "      <td>0</td>\n",
       "      <td>53</td>\n",
       "      <td>18.6</td>\n",
       "      <td>10</td>\n",
       "      <td>1</td>\n",
       "    </tr>\n",
       "  </tbody>\n",
       "</table>\n",
       "<p>555 rows × 9 columns</p>\n",
       "</div>"
      ],
      "text/plain": [
       "     runs  ballsFaced  minutes  fours  sixes  strikeRate  runningOver  \\\n",
       "0      15          14       24      0      1         107          4.2   \n",
       "1      32          28       58      2      0         114         11.1   \n",
       "2       8          12       15      1      0          66          7.1   \n",
       "3      38          28       46      2      1         135         16.3   \n",
       "4       0           6        8      0      0           0         12.2   \n",
       "..    ...         ...      ...    ...    ...         ...          ...   \n",
       "550    29          23       37      2      1         126         13.6   \n",
       "551     4           8        9      0      0          50         12.3   \n",
       "552     5           8       15      0      0          62         15.2   \n",
       "553     0           0        4      0      0           0         14.2   \n",
       "554     8          15       20      0      0          53         18.6   \n",
       "\n",
       "     Wickets  RunPoints  \n",
       "0          1          0  \n",
       "1          3          0  \n",
       "2          2          0  \n",
       "3          5          1  \n",
       "4          4          1  \n",
       "..       ...        ...  \n",
       "550        7          1  \n",
       "551        6          0  \n",
       "552        9          1  \n",
       "553        8          1  \n",
       "554       10          1  \n",
       "\n",
       "[555 rows x 9 columns]"
      ]
     },
     "execution_count": 12,
     "metadata": {},
     "output_type": "execute_result"
    }
   ],
   "source": [
    "pdDF = pdDF.drop(['Runnings', 'isNotOut'], axis = 1)\n",
    "pdDF"
   ]
  },
  {
   "cell_type": "code",
   "execution_count": 13,
   "id": "3551dca9",
   "metadata": {},
   "outputs": [
    {
     "data": {
      "text/plain": [
       "False"
      ]
     },
     "execution_count": 13,
     "metadata": {},
     "output_type": "execute_result"
    }
   ],
   "source": [
    "pdDF is pddf"
   ]
  },
  {
   "cell_type": "code",
   "execution_count": 14,
   "id": "695b8ef0",
   "metadata": {},
   "outputs": [
    {
     "data": {
      "text/plain": [
       "(555, 9)"
      ]
     },
     "execution_count": 14,
     "metadata": {},
     "output_type": "execute_result"
    }
   ],
   "source": [
    "pdDF.shape"
   ]
  },
  {
   "cell_type": "markdown",
   "id": "8b5ba4d3",
   "metadata": {},
   "source": [
    "Selecting inputs"
   ]
  },
  {
   "cell_type": "code",
   "execution_count": 15,
   "id": "8e8c5c45",
   "metadata": {},
   "outputs": [
    {
     "data": {
      "text/html": [
       "<div>\n",
       "<style scoped>\n",
       "    .dataframe tbody tr th:only-of-type {\n",
       "        vertical-align: middle;\n",
       "    }\n",
       "\n",
       "    .dataframe tbody tr th {\n",
       "        vertical-align: top;\n",
       "    }\n",
       "\n",
       "    .dataframe thead th {\n",
       "        text-align: right;\n",
       "    }\n",
       "</style>\n",
       "<table border=\"1\" class=\"dataframe\">\n",
       "  <thead>\n",
       "    <tr style=\"text-align: right;\">\n",
       "      <th></th>\n",
       "      <th>runs</th>\n",
       "      <th>ballsFaced</th>\n",
       "      <th>minutes</th>\n",
       "      <th>fours</th>\n",
       "      <th>sixes</th>\n",
       "      <th>strikeRate</th>\n",
       "      <th>runningOver</th>\n",
       "      <th>Wickets</th>\n",
       "    </tr>\n",
       "  </thead>\n",
       "  <tbody>\n",
       "    <tr>\n",
       "      <th>0</th>\n",
       "      <td>15</td>\n",
       "      <td>14</td>\n",
       "      <td>24</td>\n",
       "      <td>0</td>\n",
       "      <td>1</td>\n",
       "      <td>107</td>\n",
       "      <td>4.2</td>\n",
       "      <td>1</td>\n",
       "    </tr>\n",
       "    <tr>\n",
       "      <th>1</th>\n",
       "      <td>32</td>\n",
       "      <td>28</td>\n",
       "      <td>58</td>\n",
       "      <td>2</td>\n",
       "      <td>0</td>\n",
       "      <td>114</td>\n",
       "      <td>11.1</td>\n",
       "      <td>3</td>\n",
       "    </tr>\n",
       "    <tr>\n",
       "      <th>2</th>\n",
       "      <td>8</td>\n",
       "      <td>12</td>\n",
       "      <td>15</td>\n",
       "      <td>1</td>\n",
       "      <td>0</td>\n",
       "      <td>66</td>\n",
       "      <td>7.1</td>\n",
       "      <td>2</td>\n",
       "    </tr>\n",
       "    <tr>\n",
       "      <th>3</th>\n",
       "      <td>38</td>\n",
       "      <td>28</td>\n",
       "      <td>46</td>\n",
       "      <td>2</td>\n",
       "      <td>1</td>\n",
       "      <td>135</td>\n",
       "      <td>16.3</td>\n",
       "      <td>5</td>\n",
       "    </tr>\n",
       "    <tr>\n",
       "      <th>4</th>\n",
       "      <td>0</td>\n",
       "      <td>6</td>\n",
       "      <td>8</td>\n",
       "      <td>0</td>\n",
       "      <td>0</td>\n",
       "      <td>0</td>\n",
       "      <td>12.2</td>\n",
       "      <td>4</td>\n",
       "    </tr>\n",
       "    <tr>\n",
       "      <th>...</th>\n",
       "      <td>...</td>\n",
       "      <td>...</td>\n",
       "      <td>...</td>\n",
       "      <td>...</td>\n",
       "      <td>...</td>\n",
       "      <td>...</td>\n",
       "      <td>...</td>\n",
       "      <td>...</td>\n",
       "    </tr>\n",
       "    <tr>\n",
       "      <th>550</th>\n",
       "      <td>29</td>\n",
       "      <td>23</td>\n",
       "      <td>37</td>\n",
       "      <td>2</td>\n",
       "      <td>1</td>\n",
       "      <td>126</td>\n",
       "      <td>13.6</td>\n",
       "      <td>7</td>\n",
       "    </tr>\n",
       "    <tr>\n",
       "      <th>551</th>\n",
       "      <td>4</td>\n",
       "      <td>8</td>\n",
       "      <td>9</td>\n",
       "      <td>0</td>\n",
       "      <td>0</td>\n",
       "      <td>50</td>\n",
       "      <td>12.3</td>\n",
       "      <td>6</td>\n",
       "    </tr>\n",
       "    <tr>\n",
       "      <th>552</th>\n",
       "      <td>5</td>\n",
       "      <td>8</td>\n",
       "      <td>15</td>\n",
       "      <td>0</td>\n",
       "      <td>0</td>\n",
       "      <td>62</td>\n",
       "      <td>15.2</td>\n",
       "      <td>9</td>\n",
       "    </tr>\n",
       "    <tr>\n",
       "      <th>553</th>\n",
       "      <td>0</td>\n",
       "      <td>0</td>\n",
       "      <td>4</td>\n",
       "      <td>0</td>\n",
       "      <td>0</td>\n",
       "      <td>0</td>\n",
       "      <td>14.2</td>\n",
       "      <td>8</td>\n",
       "    </tr>\n",
       "    <tr>\n",
       "      <th>554</th>\n",
       "      <td>8</td>\n",
       "      <td>15</td>\n",
       "      <td>20</td>\n",
       "      <td>0</td>\n",
       "      <td>0</td>\n",
       "      <td>53</td>\n",
       "      <td>18.6</td>\n",
       "      <td>10</td>\n",
       "    </tr>\n",
       "  </tbody>\n",
       "</table>\n",
       "<p>555 rows × 8 columns</p>\n",
       "</div>"
      ],
      "text/plain": [
       "     runs  ballsFaced  minutes  fours  sixes  strikeRate  runningOver  Wickets\n",
       "0      15          14       24      0      1         107          4.2        1\n",
       "1      32          28       58      2      0         114         11.1        3\n",
       "2       8          12       15      1      0          66          7.1        2\n",
       "3      38          28       46      2      1         135         16.3        5\n",
       "4       0           6        8      0      0           0         12.2        4\n",
       "..    ...         ...      ...    ...    ...         ...          ...      ...\n",
       "550    29          23       37      2      1         126         13.6        7\n",
       "551     4           8        9      0      0          50         12.3        6\n",
       "552     5           8       15      0      0          62         15.2        9\n",
       "553     0           0        4      0      0           0         14.2        8\n",
       "554     8          15       20      0      0          53         18.6       10\n",
       "\n",
       "[555 rows x 8 columns]"
      ]
     },
     "execution_count": 15,
     "metadata": {},
     "output_type": "execute_result"
    }
   ],
   "source": [
    "pdDF.iloc[ : , : -1]"
   ]
  },
  {
   "cell_type": "code",
   "execution_count": 16,
   "id": "2cf10d09",
   "metadata": {},
   "outputs": [],
   "source": [
    "unscaled_inputs = pdDF.iloc[ : , : -1]"
   ]
  },
  {
   "cell_type": "code",
   "execution_count": 17,
   "id": "a3902cfa",
   "metadata": {},
   "outputs": [],
   "source": [
    "unscaled_inputs.dropna(inplace=True)"
   ]
  },
  {
   "cell_type": "markdown",
   "id": "149ebc12",
   "metadata": {},
   "source": [
    "Standardise the data"
   ]
  },
  {
   "cell_type": "code",
   "execution_count": 18,
   "id": "796bf30d",
   "metadata": {},
   "outputs": [],
   "source": [
    "#from sklearn.preprocessing import StandardScaler\n",
    "#running_scaler = StandardScaler()"
   ]
  },
  {
   "cell_type": "code",
   "execution_count": 19,
   "id": "6bd4de53",
   "metadata": {},
   "outputs": [],
   "source": [
    "from sklearn.base import BaseEstimator, TransformerMixin\n",
    "from sklearn.preprocessing import StandardScaler\n",
    "\n",
    "class CustomScaler:\n",
    "    def __init__(self, columns, copy=True, with_mean=True, with_std=True):\n",
    "        self.scaler = StandardScaler(copy=copy, with_mean=with_mean, with_std=with_std)\n",
    "        self.columns = columns\n",
    "        self.mean_ = None\n",
    "        self.var_ = None\n",
    "\n",
    "    def fit(self, X, y=None):\n",
    "        self.scaler.fit(X[self.columns], y)\n",
    "        self.mean_ = np.mean(X[self.columns])\n",
    "        self.var_ = np.var(X[self.columns])\n",
    "        return self\n",
    "\n",
    "    def transform(self, X, y=None, copy=None):\n",
    "        init_col_order = X.columns\n",
    "        X_scaled = pd.DataFrame(self.scaler.transform(X[self.columns]), columns=self.columns)\n",
    "        X_not_scaled = X.loc[:, ~X.columns.isin(self.columns)]\n",
    "        return pd.concat([X_not_scaled, X_scaled], axis=1)[init_col_order]\n"
   ]
  },
  {
   "cell_type": "code",
   "execution_count": 20,
   "id": "ae569d98",
   "metadata": {},
   "outputs": [
    {
     "data": {
      "text/plain": [
       "array(['runs', 'ballsFaced', 'minutes', 'fours', 'sixes', 'strikeRate',\n",
       "       'runningOver', 'Wickets'], dtype=object)"
      ]
     },
     "execution_count": 20,
     "metadata": {},
     "output_type": "execute_result"
    }
   ],
   "source": [
    "unscaled_inputs.columns.values"
   ]
  },
  {
   "cell_type": "code",
   "execution_count": 21,
   "id": "a6ea477c",
   "metadata": {},
   "outputs": [],
   "source": [
    "columns_to_omit = ['runs', 'ballsFaced', 'fours', 'sixes', 'strikeRate', 'Wickets']"
   ]
  },
  {
   "cell_type": "code",
   "execution_count": 22,
   "id": "98418296",
   "metadata": {},
   "outputs": [],
   "source": [
    "columns_to_scale = [x for x in unscaled_inputs.columns.values if x not in columns_to_omit]"
   ]
  },
  {
   "cell_type": "code",
   "execution_count": 23,
   "id": "5e76be58",
   "metadata": {},
   "outputs": [],
   "source": [
    "running_scaler = CustomScaler(columns_to_scale)"
   ]
  },
  {
   "cell_type": "code",
   "execution_count": null,
   "id": "ed36b4b7",
   "metadata": {},
   "outputs": [],
   "source": []
  },
  {
   "cell_type": "code",
   "execution_count": 24,
   "id": "88a5db05",
   "metadata": {},
   "outputs": [
    {
     "data": {
      "text/plain": [
       "<__main__.CustomScaler at 0x1dfc45f6c90>"
      ]
     },
     "execution_count": 24,
     "metadata": {},
     "output_type": "execute_result"
    }
   ],
   "source": [
    "running_scaler.fit(unscaled_inputs)"
   ]
  },
  {
   "cell_type": "code",
   "execution_count": 25,
   "id": "342e16fb",
   "metadata": {},
   "outputs": [],
   "source": [
    "scaled_inputs = running_scaler.transform(unscaled_inputs)"
   ]
  },
  {
   "cell_type": "code",
   "execution_count": 26,
   "id": "5ad48582",
   "metadata": {},
   "outputs": [
    {
     "data": {
      "text/html": [
       "<div>\n",
       "<style scoped>\n",
       "    .dataframe tbody tr th:only-of-type {\n",
       "        vertical-align: middle;\n",
       "    }\n",
       "\n",
       "    .dataframe tbody tr th {\n",
       "        vertical-align: top;\n",
       "    }\n",
       "\n",
       "    .dataframe thead th {\n",
       "        text-align: right;\n",
       "    }\n",
       "</style>\n",
       "<table border=\"1\" class=\"dataframe\">\n",
       "  <thead>\n",
       "    <tr style=\"text-align: right;\">\n",
       "      <th></th>\n",
       "      <th>runs</th>\n",
       "      <th>ballsFaced</th>\n",
       "      <th>minutes</th>\n",
       "      <th>fours</th>\n",
       "      <th>sixes</th>\n",
       "      <th>strikeRate</th>\n",
       "      <th>runningOver</th>\n",
       "      <th>Wickets</th>\n",
       "    </tr>\n",
       "  </thead>\n",
       "  <tbody>\n",
       "    <tr>\n",
       "      <th>0</th>\n",
       "      <td>15</td>\n",
       "      <td>14</td>\n",
       "      <td>0.080910</td>\n",
       "      <td>0</td>\n",
       "      <td>1</td>\n",
       "      <td>107</td>\n",
       "      <td>-1.178151</td>\n",
       "      <td>1</td>\n",
       "    </tr>\n",
       "    <tr>\n",
       "      <th>1</th>\n",
       "      <td>32</td>\n",
       "      <td>28</td>\n",
       "      <td>1.841901</td>\n",
       "      <td>2</td>\n",
       "      <td>0</td>\n",
       "      <td>114</td>\n",
       "      <td>-0.016562</td>\n",
       "      <td>3</td>\n",
       "    </tr>\n",
       "    <tr>\n",
       "      <th>2</th>\n",
       "      <td>8</td>\n",
       "      <td>12</td>\n",
       "      <td>-0.385234</td>\n",
       "      <td>1</td>\n",
       "      <td>0</td>\n",
       "      <td>66</td>\n",
       "      <td>-0.689947</td>\n",
       "      <td>2</td>\n",
       "    </tr>\n",
       "    <tr>\n",
       "      <th>3</th>\n",
       "      <td>38</td>\n",
       "      <td>28</td>\n",
       "      <td>1.220375</td>\n",
       "      <td>2</td>\n",
       "      <td>1</td>\n",
       "      <td>135</td>\n",
       "      <td>0.858839</td>\n",
       "      <td>5</td>\n",
       "    </tr>\n",
       "    <tr>\n",
       "      <th>4</th>\n",
       "      <td>0</td>\n",
       "      <td>6</td>\n",
       "      <td>-0.747791</td>\n",
       "      <td>0</td>\n",
       "      <td>0</td>\n",
       "      <td>0</td>\n",
       "      <td>0.168619</td>\n",
       "      <td>4</td>\n",
       "    </tr>\n",
       "    <tr>\n",
       "      <th>...</th>\n",
       "      <td>...</td>\n",
       "      <td>...</td>\n",
       "      <td>...</td>\n",
       "      <td>...</td>\n",
       "      <td>...</td>\n",
       "      <td>...</td>\n",
       "      <td>...</td>\n",
       "      <td>...</td>\n",
       "    </tr>\n",
       "    <tr>\n",
       "      <th>550</th>\n",
       "      <td>29</td>\n",
       "      <td>23</td>\n",
       "      <td>0.754230</td>\n",
       "      <td>2</td>\n",
       "      <td>1</td>\n",
       "      <td>126</td>\n",
       "      <td>0.404304</td>\n",
       "      <td>7</td>\n",
       "    </tr>\n",
       "    <tr>\n",
       "      <th>551</th>\n",
       "      <td>4</td>\n",
       "      <td>8</td>\n",
       "      <td>-0.695997</td>\n",
       "      <td>0</td>\n",
       "      <td>0</td>\n",
       "      <td>50</td>\n",
       "      <td>0.185454</td>\n",
       "      <td>6</td>\n",
       "    </tr>\n",
       "    <tr>\n",
       "      <th>552</th>\n",
       "      <td>5</td>\n",
       "      <td>8</td>\n",
       "      <td>-0.385234</td>\n",
       "      <td>0</td>\n",
       "      <td>0</td>\n",
       "      <td>62</td>\n",
       "      <td>0.673658</td>\n",
       "      <td>9</td>\n",
       "    </tr>\n",
       "    <tr>\n",
       "      <th>553</th>\n",
       "      <td>0</td>\n",
       "      <td>0</td>\n",
       "      <td>-0.954967</td>\n",
       "      <td>0</td>\n",
       "      <td>0</td>\n",
       "      <td>0</td>\n",
       "      <td>0.505312</td>\n",
       "      <td>8</td>\n",
       "    </tr>\n",
       "    <tr>\n",
       "      <th>554</th>\n",
       "      <td>8</td>\n",
       "      <td>15</td>\n",
       "      <td>-0.126265</td>\n",
       "      <td>0</td>\n",
       "      <td>0</td>\n",
       "      <td>53</td>\n",
       "      <td>1.246035</td>\n",
       "      <td>10</td>\n",
       "    </tr>\n",
       "  </tbody>\n",
       "</table>\n",
       "<p>555 rows × 8 columns</p>\n",
       "</div>"
      ],
      "text/plain": [
       "     runs  ballsFaced   minutes  fours  sixes  strikeRate  runningOver  \\\n",
       "0      15          14  0.080910      0      1         107    -1.178151   \n",
       "1      32          28  1.841901      2      0         114    -0.016562   \n",
       "2       8          12 -0.385234      1      0          66    -0.689947   \n",
       "3      38          28  1.220375      2      1         135     0.858839   \n",
       "4       0           6 -0.747791      0      0           0     0.168619   \n",
       "..    ...         ...       ...    ...    ...         ...          ...   \n",
       "550    29          23  0.754230      2      1         126     0.404304   \n",
       "551     4           8 -0.695997      0      0          50     0.185454   \n",
       "552     5           8 -0.385234      0      0          62     0.673658   \n",
       "553     0           0 -0.954967      0      0           0     0.505312   \n",
       "554     8          15 -0.126265      0      0          53     1.246035   \n",
       "\n",
       "     Wickets  \n",
       "0          1  \n",
       "1          3  \n",
       "2          2  \n",
       "3          5  \n",
       "4          4  \n",
       "..       ...  \n",
       "550        7  \n",
       "551        6  \n",
       "552        9  \n",
       "553        8  \n",
       "554       10  \n",
       "\n",
       "[555 rows x 8 columns]"
      ]
     },
     "execution_count": 26,
     "metadata": {},
     "output_type": "execute_result"
    }
   ],
   "source": [
    "scaled_inputs"
   ]
  },
  {
   "cell_type": "code",
   "execution_count": 27,
   "id": "c27a2660",
   "metadata": {},
   "outputs": [
    {
     "data": {
      "text/plain": [
       "(555, 8)"
      ]
     },
     "execution_count": 27,
     "metadata": {},
     "output_type": "execute_result"
    }
   ],
   "source": [
    "scaled_inputs.shape"
   ]
  },
  {
   "cell_type": "markdown",
   "id": "162965a7",
   "metadata": {},
   "source": [
    "Training the model"
   ]
  },
  {
   "cell_type": "code",
   "execution_count": 28,
   "id": "1ba6199c",
   "metadata": {},
   "outputs": [],
   "source": [
    "from sklearn.model_selection import train_test_split"
   ]
  },
  {
   "cell_type": "code",
   "execution_count": 29,
   "id": "578c1373",
   "metadata": {},
   "outputs": [
    {
     "data": {
      "text/plain": [
       "[     runs  ballsFaced   minutes  fours  sixes  strikeRate  runningOver  \\\n",
       " 481    20          19 -0.126265      3      0         105    -1.127647   \n",
       " 297    62          47  2.670603      5      2         131     0.690493   \n",
       " 135    60          27  0.909612      7      3         222    -0.673112   \n",
       " 437    13          12 -0.281647      2      0         108    -1.329662   \n",
       " 7       4           8 -0.540616      0      0          50     1.363878   \n",
       " ..    ...         ...       ...    ...    ...         ...          ...   \n",
       " 541    26          24  1.375757      2      0         108     0.404304   \n",
       " 426    19          13 -0.229853      2      0         146     1.010351   \n",
       " 198     0           3 -0.954967      0      0           0    -0.656277   \n",
       " 262    14          16  0.029117      1      1          87    -1.144482   \n",
       " 49     32          32  1.479344      2      1         100     0.000273   \n",
       " \n",
       "      Wickets  \n",
       " 481        2  \n",
       " 297        4  \n",
       " 135        1  \n",
       " 437        1  \n",
       " 7          8  \n",
       " ..       ...  \n",
       " 541        5  \n",
       " 426        4  \n",
       " 198        4  \n",
       " 262        2  \n",
       " 49         2  \n",
       " \n",
       " [416 rows x 8 columns],\n",
       "      runs  ballsFaced   minutes  fours  sixes  strikeRate  runningOver  \\\n",
       " 293     2           6 -0.799585      0      0          33     0.067611   \n",
       " 399    12           9 -0.592410      2      0         133     1.060854   \n",
       " 468     0           1 -1.058554      0      0           0     0.572650   \n",
       " 462    14          16  0.029117      1      0          87    -0.319585   \n",
       " 194     9          14  0.132704      0      1          64    -1.110812   \n",
       " ..    ...         ...       ...    ...    ...         ...          ...   \n",
       " 67     18          14 -0.074471      1      1         128    -1.279159   \n",
       " 279     3           5 -0.592410      0      0          60     1.060854   \n",
       " 440     7           9 -0.644204      0      0          77     0.168619   \n",
       " 329    38          27  1.272169      2      2         140     1.077689   \n",
       " 369    30          30  1.945489      3      0         100     1.347043   \n",
       " \n",
       "      Wickets  \n",
       " 293        7  \n",
       " 399        5  \n",
       " 468        5  \n",
       " 462        4  \n",
       " 194        2  \n",
       " ..       ...  \n",
       " 67         1  \n",
       " 279        8  \n",
       " 440        3  \n",
       " 329        7  \n",
       " 369        9  \n",
       " \n",
       " [139 rows x 8 columns],\n",
       " array([0, 1, 0, 0, 1, 0, 1, 0, 0, 0, 0, 0, 1, 0, 1, 1, 0, 1, 0, 0, 1, 1,\n",
       "        1, 0, 1, 0, 0, 0, 0, 0, 1, 0, 0, 0, 1, 1, 1, 0, 1, 1, 1, 0, 0, 0,\n",
       "        1, 1, 0, 1, 1, 1, 0, 1, 0, 0, 1, 1, 1, 1, 0, 1, 1, 0, 0, 0, 0, 1,\n",
       "        1, 1, 0, 0, 1, 0, 0, 1, 0, 1, 0, 0, 0, 0, 1, 1, 0, 0, 0, 0, 0, 0,\n",
       "        1, 1, 1, 0, 1, 0, 0, 1, 0, 0, 0, 0, 0, 0, 0, 0, 1, 0, 1, 1, 0, 0,\n",
       "        0, 1, 1, 0, 0, 1, 0, 0, 1, 1, 1, 0, 1, 0, 0, 1, 1, 0, 0, 0, 1, 1,\n",
       "        0, 1, 0, 1, 0, 1, 0, 1, 1, 1, 0, 1, 1, 0, 1, 1, 0, 0, 0, 1, 0, 0,\n",
       "        1, 1, 1, 1, 1, 1, 0, 0, 1, 0, 0, 0, 0, 0, 1, 0, 1, 1, 0, 1, 1, 1,\n",
       "        0, 1, 1, 0, 0, 1, 0, 1, 0, 0, 1, 0, 1, 0, 0, 1, 0, 0, 1, 0, 1, 1,\n",
       "        0, 1, 1, 0, 1, 1, 1, 0, 0, 1, 0, 0, 0, 0, 0, 0, 1, 1, 0, 0, 1, 1,\n",
       "        1, 1, 1, 0, 0, 1, 1, 0, 0, 0, 0, 1, 1, 0, 0, 1, 0, 1, 0, 1, 0, 0,\n",
       "        1, 1, 0, 0, 0, 1, 0, 1, 1, 1, 0, 0, 1, 0, 0, 0, 1, 0, 1, 0, 1, 1,\n",
       "        1, 1, 1, 0, 0, 0, 0, 0, 1, 0, 1, 1, 0, 1, 0, 0, 0, 1, 1, 0, 0, 1,\n",
       "        0, 1, 1, 1, 0, 0, 1, 0, 0, 0, 1, 0, 1, 1, 0, 0, 1, 1, 1, 1, 0, 1,\n",
       "        1, 0, 0, 1, 0, 1, 1, 0, 1, 0, 0, 1, 1, 1, 1, 1, 0, 0, 0, 1, 1, 1,\n",
       "        1, 0, 1, 1, 1, 0, 0, 1, 1, 1, 1, 1, 0, 0, 0, 0, 0, 0, 0, 0, 1, 1,\n",
       "        1, 0, 1, 1, 1, 0, 1, 1, 1, 0, 1, 1, 0, 1, 1, 1, 1, 1, 0, 0, 0, 0,\n",
       "        1, 0, 1, 0, 1, 1, 0, 1, 0, 0, 0, 1, 0, 0, 0, 0, 0, 1, 1, 0, 1, 0,\n",
       "        1, 1, 0, 0, 0, 0, 1, 1, 0, 1, 1, 0, 1, 1, 0, 1, 1, 0, 0, 0]),\n",
       " array([0, 1, 1, 0, 0, 0, 1, 0, 1, 1, 1, 0, 0, 1, 1, 0, 0, 1, 1, 1, 1, 1,\n",
       "        0, 1, 1, 0, 1, 1, 1, 0, 1, 0, 0, 0, 0, 0, 1, 1, 0, 1, 0, 1, 0, 1,\n",
       "        1, 0, 1, 1, 1, 0, 0, 0, 0, 0, 1, 1, 1, 1, 0, 1, 1, 0, 1, 1, 1, 1,\n",
       "        0, 1, 0, 1, 0, 1, 0, 1, 0, 1, 0, 0, 1, 0, 1, 1, 0, 1, 0, 0, 1, 0,\n",
       "        1, 0, 0, 0, 1, 0, 0, 1, 0, 0, 0, 1, 1, 0, 1, 1, 1, 1, 0, 1, 1, 1,\n",
       "        0, 1, 0, 1, 1, 0, 0, 1, 1, 0, 1, 1, 0, 1, 0, 0, 0, 1, 0, 0, 0, 1,\n",
       "        1, 1, 0, 1, 1, 1, 1])]"
      ]
     },
     "execution_count": 29,
     "metadata": {},
     "output_type": "execute_result"
    }
   ],
   "source": [
    "train_test_split(scaled_inputs, targets)"
   ]
  },
  {
   "cell_type": "code",
   "execution_count": 30,
   "id": "152a5693",
   "metadata": {},
   "outputs": [],
   "source": [
    "x_train, x_test, y_train, y_test = train_test_split(scaled_inputs, targets, train_size = 0.8, random_state = 20)"
   ]
  },
  {
   "cell_type": "code",
   "execution_count": 31,
   "id": "c4d866e2",
   "metadata": {},
   "outputs": [
    {
     "name": "stdout",
     "output_type": "stream",
     "text": [
      "(444, 8) (444,)\n"
     ]
    }
   ],
   "source": [
    "print(x_train.shape, y_train.shape)"
   ]
  },
  {
   "cell_type": "code",
   "execution_count": 32,
   "id": "f8933229",
   "metadata": {},
   "outputs": [
    {
     "name": "stdout",
     "output_type": "stream",
     "text": [
      "(111, 8) (111,)\n"
     ]
    }
   ],
   "source": [
    "print(x_test.shape, y_test.shape)"
   ]
  },
  {
   "cell_type": "code",
   "execution_count": 33,
   "id": "3deb1fd5",
   "metadata": {},
   "outputs": [],
   "source": [
    "from sklearn.linear_model import LogisticRegression\n",
    "from sklearn import metrics"
   ]
  },
  {
   "cell_type": "code",
   "execution_count": 34,
   "id": "0b25a677",
   "metadata": {},
   "outputs": [],
   "source": [
    "reg = LogisticRegression()"
   ]
  },
  {
   "cell_type": "code",
   "execution_count": 35,
   "id": "61e02001",
   "metadata": {},
   "outputs": [
    {
     "name": "stderr",
     "output_type": "stream",
     "text": [
      "C:\\Users\\ingobeni\\AppData\\Local\\anaconda3\\Lib\\site-packages\\sklearn\\linear_model\\_logistic.py:460: ConvergenceWarning: lbfgs failed to converge (status=1):\n",
      "STOP: TOTAL NO. of ITERATIONS REACHED LIMIT.\n",
      "\n",
      "Increase the number of iterations (max_iter) or scale the data as shown in:\n",
      "    https://scikit-learn.org/stable/modules/preprocessing.html\n",
      "Please also refer to the documentation for alternative solver options:\n",
      "    https://scikit-learn.org/stable/modules/linear_model.html#logistic-regression\n",
      "  n_iter_i = _check_optimize_result(\n"
     ]
    },
    {
     "data": {
      "text/html": [
       "<style>#sk-container-id-1 {color: black;}#sk-container-id-1 pre{padding: 0;}#sk-container-id-1 div.sk-toggleable {background-color: white;}#sk-container-id-1 label.sk-toggleable__label {cursor: pointer;display: block;width: 100%;margin-bottom: 0;padding: 0.3em;box-sizing: border-box;text-align: center;}#sk-container-id-1 label.sk-toggleable__label-arrow:before {content: \"▸\";float: left;margin-right: 0.25em;color: #696969;}#sk-container-id-1 label.sk-toggleable__label-arrow:hover:before {color: black;}#sk-container-id-1 div.sk-estimator:hover label.sk-toggleable__label-arrow:before {color: black;}#sk-container-id-1 div.sk-toggleable__content {max-height: 0;max-width: 0;overflow: hidden;text-align: left;background-color: #f0f8ff;}#sk-container-id-1 div.sk-toggleable__content pre {margin: 0.2em;color: black;border-radius: 0.25em;background-color: #f0f8ff;}#sk-container-id-1 input.sk-toggleable__control:checked~div.sk-toggleable__content {max-height: 200px;max-width: 100%;overflow: auto;}#sk-container-id-1 input.sk-toggleable__control:checked~label.sk-toggleable__label-arrow:before {content: \"▾\";}#sk-container-id-1 div.sk-estimator input.sk-toggleable__control:checked~label.sk-toggleable__label {background-color: #d4ebff;}#sk-container-id-1 div.sk-label input.sk-toggleable__control:checked~label.sk-toggleable__label {background-color: #d4ebff;}#sk-container-id-1 input.sk-hidden--visually {border: 0;clip: rect(1px 1px 1px 1px);clip: rect(1px, 1px, 1px, 1px);height: 1px;margin: -1px;overflow: hidden;padding: 0;position: absolute;width: 1px;}#sk-container-id-1 div.sk-estimator {font-family: monospace;background-color: #f0f8ff;border: 1px dotted black;border-radius: 0.25em;box-sizing: border-box;margin-bottom: 0.5em;}#sk-container-id-1 div.sk-estimator:hover {background-color: #d4ebff;}#sk-container-id-1 div.sk-parallel-item::after {content: \"\";width: 100%;border-bottom: 1px solid gray;flex-grow: 1;}#sk-container-id-1 div.sk-label:hover label.sk-toggleable__label {background-color: #d4ebff;}#sk-container-id-1 div.sk-serial::before {content: \"\";position: absolute;border-left: 1px solid gray;box-sizing: border-box;top: 0;bottom: 0;left: 50%;z-index: 0;}#sk-container-id-1 div.sk-serial {display: flex;flex-direction: column;align-items: center;background-color: white;padding-right: 0.2em;padding-left: 0.2em;position: relative;}#sk-container-id-1 div.sk-item {position: relative;z-index: 1;}#sk-container-id-1 div.sk-parallel {display: flex;align-items: stretch;justify-content: center;background-color: white;position: relative;}#sk-container-id-1 div.sk-item::before, #sk-container-id-1 div.sk-parallel-item::before {content: \"\";position: absolute;border-left: 1px solid gray;box-sizing: border-box;top: 0;bottom: 0;left: 50%;z-index: -1;}#sk-container-id-1 div.sk-parallel-item {display: flex;flex-direction: column;z-index: 1;position: relative;background-color: white;}#sk-container-id-1 div.sk-parallel-item:first-child::after {align-self: flex-end;width: 50%;}#sk-container-id-1 div.sk-parallel-item:last-child::after {align-self: flex-start;width: 50%;}#sk-container-id-1 div.sk-parallel-item:only-child::after {width: 0;}#sk-container-id-1 div.sk-dashed-wrapped {border: 1px dashed gray;margin: 0 0.4em 0.5em 0.4em;box-sizing: border-box;padding-bottom: 0.4em;background-color: white;}#sk-container-id-1 div.sk-label label {font-family: monospace;font-weight: bold;display: inline-block;line-height: 1.2em;}#sk-container-id-1 div.sk-label-container {text-align: center;}#sk-container-id-1 div.sk-container {/* jupyter's `normalize.less` sets `[hidden] { display: none; }` but bootstrap.min.css set `[hidden] { display: none !important; }` so we also need the `!important` here to be able to override the default hidden behavior on the sphinx rendered scikit-learn.org. See: https://github.com/scikit-learn/scikit-learn/issues/21755 */display: inline-block !important;position: relative;}#sk-container-id-1 div.sk-text-repr-fallback {display: none;}</style><div id=\"sk-container-id-1\" class=\"sk-top-container\"><div class=\"sk-text-repr-fallback\"><pre>LogisticRegression()</pre><b>In a Jupyter environment, please rerun this cell to show the HTML representation or trust the notebook. <br />On GitHub, the HTML representation is unable to render, please try loading this page with nbviewer.org.</b></div><div class=\"sk-container\" hidden><div class=\"sk-item\"><div class=\"sk-estimator sk-toggleable\"><input class=\"sk-toggleable__control sk-hidden--visually\" id=\"sk-estimator-id-1\" type=\"checkbox\" checked><label for=\"sk-estimator-id-1\" class=\"sk-toggleable__label sk-toggleable__label-arrow\">LogisticRegression</label><div class=\"sk-toggleable__content\"><pre>LogisticRegression()</pre></div></div></div></div></div>"
      ],
      "text/plain": [
       "LogisticRegression()"
      ]
     },
     "execution_count": 35,
     "metadata": {},
     "output_type": "execute_result"
    }
   ],
   "source": [
    "reg.fit(x_train, y_train)"
   ]
  },
  {
   "cell_type": "code",
   "execution_count": 36,
   "id": "07a14968",
   "metadata": {},
   "outputs": [
    {
     "data": {
      "text/plain": [
       "0.9391891891891891"
      ]
     },
     "execution_count": 36,
     "metadata": {},
     "output_type": "execute_result"
    }
   ],
   "source": [
    "reg.score(x_train, y_train)"
   ]
  },
  {
   "cell_type": "code",
   "execution_count": 37,
   "id": "15a57d1d",
   "metadata": {},
   "outputs": [],
   "source": [
    "model_outputs = reg.predict(x_train)"
   ]
  },
  {
   "cell_type": "code",
   "execution_count": 38,
   "id": "165c3ed7",
   "metadata": {},
   "outputs": [
    {
     "data": {
      "text/plain": [
       "array([ True,  True,  True, False,  True,  True,  True,  True,  True,\n",
       "       False,  True,  True,  True,  True,  True, False,  True,  True,\n",
       "        True,  True,  True,  True,  True,  True,  True,  True,  True,\n",
       "        True,  True, False,  True,  True,  True,  True,  True,  True,\n",
       "        True,  True,  True,  True,  True,  True,  True,  True,  True,\n",
       "        True,  True,  True,  True,  True,  True,  True,  True,  True,\n",
       "        True,  True,  True,  True,  True,  True,  True,  True,  True,\n",
       "        True,  True,  True,  True,  True,  True,  True,  True,  True,\n",
       "        True,  True,  True,  True,  True,  True,  True,  True,  True,\n",
       "        True,  True,  True, False,  True,  True,  True,  True,  True,\n",
       "        True,  True,  True,  True,  True,  True,  True,  True,  True,\n",
       "        True,  True,  True,  True,  True,  True, False,  True,  True,\n",
       "        True,  True,  True,  True,  True,  True, False,  True,  True,\n",
       "        True,  True,  True,  True,  True,  True,  True,  True, False,\n",
       "        True,  True,  True,  True,  True,  True,  True,  True,  True,\n",
       "        True,  True,  True,  True,  True,  True,  True,  True,  True,\n",
       "        True,  True,  True,  True,  True,  True,  True,  True,  True,\n",
       "        True,  True,  True,  True,  True,  True,  True,  True,  True,\n",
       "        True,  True,  True,  True,  True,  True,  True,  True,  True,\n",
       "        True,  True,  True,  True,  True,  True,  True,  True,  True,\n",
       "        True,  True,  True, False,  True,  True,  True,  True,  True,\n",
       "        True,  True,  True,  True,  True,  True,  True,  True,  True,\n",
       "        True,  True,  True,  True,  True,  True,  True,  True, False,\n",
       "        True,  True,  True,  True,  True,  True, False,  True,  True,\n",
       "        True,  True,  True,  True,  True,  True,  True,  True,  True,\n",
       "        True,  True,  True,  True,  True,  True, False,  True,  True,\n",
       "        True,  True, False,  True,  True,  True,  True,  True,  True,\n",
       "        True,  True,  True,  True,  True,  True,  True,  True,  True,\n",
       "        True,  True,  True,  True,  True,  True,  True,  True,  True,\n",
       "        True,  True,  True,  True,  True,  True,  True,  True, False,\n",
       "        True,  True,  True,  True,  True,  True,  True,  True,  True,\n",
       "        True,  True,  True,  True, False,  True,  True,  True,  True,\n",
       "        True,  True,  True,  True,  True,  True, False,  True,  True,\n",
       "        True, False,  True,  True,  True,  True,  True,  True,  True,\n",
       "        True,  True,  True,  True,  True,  True,  True,  True,  True,\n",
       "        True,  True,  True,  True,  True,  True,  True,  True,  True,\n",
       "        True,  True,  True,  True,  True, False,  True,  True, False,\n",
       "        True,  True,  True,  True,  True,  True,  True,  True,  True,\n",
       "        True,  True,  True,  True,  True,  True,  True,  True,  True,\n",
       "        True,  True,  True,  True,  True,  True,  True,  True,  True,\n",
       "       False,  True,  True,  True,  True,  True,  True,  True,  True,\n",
       "        True,  True,  True,  True,  True,  True,  True,  True,  True,\n",
       "        True,  True,  True,  True,  True,  True,  True,  True, False,\n",
       "        True,  True,  True, False,  True,  True,  True, False,  True,\n",
       "        True,  True, False,  True,  True,  True,  True,  True,  True,\n",
       "        True,  True,  True,  True,  True,  True,  True,  True,  True,\n",
       "        True,  True,  True,  True,  True,  True,  True,  True,  True,\n",
       "        True,  True,  True,  True,  True,  True,  True,  True,  True,\n",
       "       False,  True,  True,  True,  True,  True,  True, False,  True,\n",
       "       False,  True,  True])"
      ]
     },
     "execution_count": 38,
     "metadata": {},
     "output_type": "execute_result"
    }
   ],
   "source": [
    "model_outputs == y_train"
   ]
  },
  {
   "cell_type": "code",
   "execution_count": 39,
   "id": "e837e95f",
   "metadata": {},
   "outputs": [
    {
     "data": {
      "text/plain": [
       "417"
      ]
     },
     "execution_count": 39,
     "metadata": {},
     "output_type": "execute_result"
    }
   ],
   "source": [
    "np.sum((model_outputs == y_train))"
   ]
  },
  {
   "cell_type": "code",
   "execution_count": 40,
   "id": "6df0ba9e",
   "metadata": {},
   "outputs": [
    {
     "data": {
      "text/plain": [
       "444"
      ]
     },
     "execution_count": 40,
     "metadata": {},
     "output_type": "execute_result"
    }
   ],
   "source": [
    "model_outputs.shape[0]"
   ]
  },
  {
   "cell_type": "code",
   "execution_count": 41,
   "id": "fa802202",
   "metadata": {},
   "outputs": [
    {
     "data": {
      "text/plain": [
       "0.9391891891891891"
      ]
     },
     "execution_count": 41,
     "metadata": {},
     "output_type": "execute_result"
    }
   ],
   "source": [
    "np.sum((model_outputs == y_train)) / model_outputs.shape[0]"
   ]
  },
  {
   "cell_type": "markdown",
   "id": "93a1c2c2",
   "metadata": {},
   "source": [
    "exploring coefficient and interception"
   ]
  },
  {
   "cell_type": "code",
   "execution_count": 42,
   "id": "4c5dbc4d",
   "metadata": {},
   "outputs": [
    {
     "data": {
      "text/plain": [
       "array([0.62496983])"
      ]
     },
     "execution_count": 42,
     "metadata": {},
     "output_type": "execute_result"
    }
   ],
   "source": [
    "reg.intercept_"
   ]
  },
  {
   "cell_type": "code",
   "execution_count": 43,
   "id": "3bb96ed5",
   "metadata": {},
   "outputs": [
    {
     "data": {
      "text/plain": [
       "array([[ 1.43738670e-01, -1.68107059e-01,  2.17446483e-01,\n",
       "        -1.71280787e-01, -3.35636074e-01,  3.86396277e-04,\n",
       "         4.80877833e+00, -1.59132655e-01]])"
      ]
     },
     "execution_count": 43,
     "metadata": {},
     "output_type": "execute_result"
    }
   ],
   "source": [
    "reg.coef_"
   ]
  },
  {
   "cell_type": "code",
   "execution_count": 44,
   "id": "f81b822b",
   "metadata": {},
   "outputs": [
    {
     "data": {
      "text/plain": [
       "array(['runs', 'ballsFaced', 'minutes', 'fours', 'sixes', 'strikeRate',\n",
       "       'runningOver', 'Wickets'], dtype=object)"
      ]
     },
     "execution_count": 44,
     "metadata": {},
     "output_type": "execute_result"
    }
   ],
   "source": [
    "unscaled_inputs.columns.values"
   ]
  },
  {
   "cell_type": "code",
   "execution_count": 45,
   "id": "73cb5a0e",
   "metadata": {},
   "outputs": [],
   "source": [
    "feature_name = unscaled_inputs.columns.values"
   ]
  },
  {
   "cell_type": "markdown",
   "id": "b0dffd1f",
   "metadata": {},
   "source": [
    "creating summary table"
   ]
  },
  {
   "cell_type": "code",
   "execution_count": 46,
   "id": "fae0c190",
   "metadata": {},
   "outputs": [
    {
     "data": {
      "text/html": [
       "<div>\n",
       "<style scoped>\n",
       "    .dataframe tbody tr th:only-of-type {\n",
       "        vertical-align: middle;\n",
       "    }\n",
       "\n",
       "    .dataframe tbody tr th {\n",
       "        vertical-align: top;\n",
       "    }\n",
       "\n",
       "    .dataframe thead th {\n",
       "        text-align: right;\n",
       "    }\n",
       "</style>\n",
       "<table border=\"1\" class=\"dataframe\">\n",
       "  <thead>\n",
       "    <tr style=\"text-align: right;\">\n",
       "      <th></th>\n",
       "      <th>feature_name</th>\n",
       "      <th>Coefficient</th>\n",
       "    </tr>\n",
       "  </thead>\n",
       "  <tbody>\n",
       "    <tr>\n",
       "      <th>0</th>\n",
       "      <td>Intercept</td>\n",
       "      <td>0.624970</td>\n",
       "    </tr>\n",
       "    <tr>\n",
       "      <th>1</th>\n",
       "      <td>runs</td>\n",
       "      <td>0.143739</td>\n",
       "    </tr>\n",
       "    <tr>\n",
       "      <th>2</th>\n",
       "      <td>ballsFaced</td>\n",
       "      <td>-0.168107</td>\n",
       "    </tr>\n",
       "    <tr>\n",
       "      <th>3</th>\n",
       "      <td>minutes</td>\n",
       "      <td>0.217446</td>\n",
       "    </tr>\n",
       "    <tr>\n",
       "      <th>4</th>\n",
       "      <td>fours</td>\n",
       "      <td>-0.171281</td>\n",
       "    </tr>\n",
       "    <tr>\n",
       "      <th>5</th>\n",
       "      <td>sixes</td>\n",
       "      <td>-0.335636</td>\n",
       "    </tr>\n",
       "    <tr>\n",
       "      <th>6</th>\n",
       "      <td>strikeRate</td>\n",
       "      <td>0.000386</td>\n",
       "    </tr>\n",
       "    <tr>\n",
       "      <th>7</th>\n",
       "      <td>runningOver</td>\n",
       "      <td>4.808778</td>\n",
       "    </tr>\n",
       "    <tr>\n",
       "      <th>8</th>\n",
       "      <td>Wickets</td>\n",
       "      <td>-0.159133</td>\n",
       "    </tr>\n",
       "  </tbody>\n",
       "</table>\n",
       "</div>"
      ],
      "text/plain": [
       "  feature_name  Coefficient\n",
       "0    Intercept     0.624970\n",
       "1         runs     0.143739\n",
       "2   ballsFaced    -0.168107\n",
       "3      minutes     0.217446\n",
       "4        fours    -0.171281\n",
       "5        sixes    -0.335636\n",
       "6   strikeRate     0.000386\n",
       "7  runningOver     4.808778\n",
       "8      Wickets    -0.159133"
      ]
     },
     "execution_count": 46,
     "metadata": {},
     "output_type": "execute_result"
    }
   ],
   "source": [
    "summary_table = pd.DataFrame(columns = ['feature_name'], data = feature_name)\n",
    "summary_table['Coefficient'] = np.transpose(reg.coef_)\n",
    "summary_table.index = summary_table.index + 1\n",
    "summary_table.loc[0] = ['Intercept', reg.intercept_[0]]\n",
    "summary_table = summary_table.sort_index()\n",
    "summary_table"
   ]
  },
  {
   "cell_type": "code",
   "execution_count": 47,
   "id": "17a9dbe5",
   "metadata": {},
   "outputs": [],
   "source": [
    "summary_table['Odds_ratios'] = np.exp(summary_table.Coefficient)"
   ]
  },
  {
   "cell_type": "code",
   "execution_count": 48,
   "id": "bac813e3",
   "metadata": {},
   "outputs": [
    {
     "data": {
      "text/html": [
       "<div>\n",
       "<style scoped>\n",
       "    .dataframe tbody tr th:only-of-type {\n",
       "        vertical-align: middle;\n",
       "    }\n",
       "\n",
       "    .dataframe tbody tr th {\n",
       "        vertical-align: top;\n",
       "    }\n",
       "\n",
       "    .dataframe thead th {\n",
       "        text-align: right;\n",
       "    }\n",
       "</style>\n",
       "<table border=\"1\" class=\"dataframe\">\n",
       "  <thead>\n",
       "    <tr style=\"text-align: right;\">\n",
       "      <th></th>\n",
       "      <th>feature_name</th>\n",
       "      <th>Coefficient</th>\n",
       "      <th>Odds_ratios</th>\n",
       "    </tr>\n",
       "  </thead>\n",
       "  <tbody>\n",
       "    <tr>\n",
       "      <th>0</th>\n",
       "      <td>Intercept</td>\n",
       "      <td>0.624970</td>\n",
       "      <td>1.868190</td>\n",
       "    </tr>\n",
       "    <tr>\n",
       "      <th>1</th>\n",
       "      <td>runs</td>\n",
       "      <td>0.143739</td>\n",
       "      <td>1.154582</td>\n",
       "    </tr>\n",
       "    <tr>\n",
       "      <th>2</th>\n",
       "      <td>ballsFaced</td>\n",
       "      <td>-0.168107</td>\n",
       "      <td>0.845263</td>\n",
       "    </tr>\n",
       "    <tr>\n",
       "      <th>3</th>\n",
       "      <td>minutes</td>\n",
       "      <td>0.217446</td>\n",
       "      <td>1.242899</td>\n",
       "    </tr>\n",
       "    <tr>\n",
       "      <th>4</th>\n",
       "      <td>fours</td>\n",
       "      <td>-0.171281</td>\n",
       "      <td>0.842585</td>\n",
       "    </tr>\n",
       "    <tr>\n",
       "      <th>5</th>\n",
       "      <td>sixes</td>\n",
       "      <td>-0.335636</td>\n",
       "      <td>0.714883</td>\n",
       "    </tr>\n",
       "    <tr>\n",
       "      <th>6</th>\n",
       "      <td>strikeRate</td>\n",
       "      <td>0.000386</td>\n",
       "      <td>1.000386</td>\n",
       "    </tr>\n",
       "    <tr>\n",
       "      <th>7</th>\n",
       "      <td>runningOver</td>\n",
       "      <td>4.808778</td>\n",
       "      <td>122.581771</td>\n",
       "    </tr>\n",
       "    <tr>\n",
       "      <th>8</th>\n",
       "      <td>Wickets</td>\n",
       "      <td>-0.159133</td>\n",
       "      <td>0.852883</td>\n",
       "    </tr>\n",
       "  </tbody>\n",
       "</table>\n",
       "</div>"
      ],
      "text/plain": [
       "  feature_name  Coefficient  Odds_ratios\n",
       "0    Intercept     0.624970     1.868190\n",
       "1         runs     0.143739     1.154582\n",
       "2   ballsFaced    -0.168107     0.845263\n",
       "3      minutes     0.217446     1.242899\n",
       "4        fours    -0.171281     0.842585\n",
       "5        sixes    -0.335636     0.714883\n",
       "6   strikeRate     0.000386     1.000386\n",
       "7  runningOver     4.808778   122.581771\n",
       "8      Wickets    -0.159133     0.852883"
      ]
     },
     "execution_count": 48,
     "metadata": {},
     "output_type": "execute_result"
    }
   ],
   "source": [
    "summary_table"
   ]
  },
  {
   "cell_type": "code",
   "execution_count": 49,
   "id": "a047d72d",
   "metadata": {},
   "outputs": [
    {
     "data": {
      "text/html": [
       "<div>\n",
       "<style scoped>\n",
       "    .dataframe tbody tr th:only-of-type {\n",
       "        vertical-align: middle;\n",
       "    }\n",
       "\n",
       "    .dataframe tbody tr th {\n",
       "        vertical-align: top;\n",
       "    }\n",
       "\n",
       "    .dataframe thead th {\n",
       "        text-align: right;\n",
       "    }\n",
       "</style>\n",
       "<table border=\"1\" class=\"dataframe\">\n",
       "  <thead>\n",
       "    <tr style=\"text-align: right;\">\n",
       "      <th></th>\n",
       "      <th>feature_name</th>\n",
       "      <th>Coefficient</th>\n",
       "      <th>Odds_ratios</th>\n",
       "    </tr>\n",
       "  </thead>\n",
       "  <tbody>\n",
       "    <tr>\n",
       "      <th>7</th>\n",
       "      <td>runningOver</td>\n",
       "      <td>4.808778</td>\n",
       "      <td>122.581771</td>\n",
       "    </tr>\n",
       "    <tr>\n",
       "      <th>0</th>\n",
       "      <td>Intercept</td>\n",
       "      <td>0.624970</td>\n",
       "      <td>1.868190</td>\n",
       "    </tr>\n",
       "    <tr>\n",
       "      <th>3</th>\n",
       "      <td>minutes</td>\n",
       "      <td>0.217446</td>\n",
       "      <td>1.242899</td>\n",
       "    </tr>\n",
       "    <tr>\n",
       "      <th>1</th>\n",
       "      <td>runs</td>\n",
       "      <td>0.143739</td>\n",
       "      <td>1.154582</td>\n",
       "    </tr>\n",
       "    <tr>\n",
       "      <th>6</th>\n",
       "      <td>strikeRate</td>\n",
       "      <td>0.000386</td>\n",
       "      <td>1.000386</td>\n",
       "    </tr>\n",
       "    <tr>\n",
       "      <th>8</th>\n",
       "      <td>Wickets</td>\n",
       "      <td>-0.159133</td>\n",
       "      <td>0.852883</td>\n",
       "    </tr>\n",
       "    <tr>\n",
       "      <th>2</th>\n",
       "      <td>ballsFaced</td>\n",
       "      <td>-0.168107</td>\n",
       "      <td>0.845263</td>\n",
       "    </tr>\n",
       "    <tr>\n",
       "      <th>4</th>\n",
       "      <td>fours</td>\n",
       "      <td>-0.171281</td>\n",
       "      <td>0.842585</td>\n",
       "    </tr>\n",
       "    <tr>\n",
       "      <th>5</th>\n",
       "      <td>sixes</td>\n",
       "      <td>-0.335636</td>\n",
       "      <td>0.714883</td>\n",
       "    </tr>\n",
       "  </tbody>\n",
       "</table>\n",
       "</div>"
      ],
      "text/plain": [
       "  feature_name  Coefficient  Odds_ratios\n",
       "7  runningOver     4.808778   122.581771\n",
       "0    Intercept     0.624970     1.868190\n",
       "3      minutes     0.217446     1.242899\n",
       "1         runs     0.143739     1.154582\n",
       "6   strikeRate     0.000386     1.000386\n",
       "8      Wickets    -0.159133     0.852883\n",
       "2   ballsFaced    -0.168107     0.845263\n",
       "4        fours    -0.171281     0.842585\n",
       "5        sixes    -0.335636     0.714883"
      ]
     },
     "execution_count": 49,
     "metadata": {},
     "output_type": "execute_result"
    }
   ],
   "source": [
    "summary_table.sort_values('Odds_ratios', ascending = False)"
   ]
  },
  {
   "cell_type": "markdown",
   "id": "ba4333bb",
   "metadata": {},
   "source": [
    "Testing"
   ]
  },
  {
   "cell_type": "code",
   "execution_count": 50,
   "id": "e1b8392e",
   "metadata": {},
   "outputs": [
    {
     "data": {
      "text/plain": [
       "0.954954954954955"
      ]
     },
     "execution_count": 50,
     "metadata": {},
     "output_type": "execute_result"
    }
   ],
   "source": [
    "reg.score(x_test, y_test)"
   ]
  },
  {
   "cell_type": "code",
   "execution_count": 53,
   "id": "92194434",
   "metadata": {},
   "outputs": [
    {
     "data": {
      "text/plain": [
       "array([[5.16185986e-02, 9.48381401e-01],\n",
       "       [9.96789072e-01, 3.21092774e-03],\n",
       "       [3.22609700e-03, 9.96773903e-01],\n",
       "       [8.75541631e-01, 1.24458369e-01],\n",
       "       [2.03767834e-01, 7.96232166e-01],\n",
       "       [9.99661997e-01, 3.38002921e-04],\n",
       "       [4.26459762e-03, 9.95735402e-01],\n",
       "       [5.16917588e-01, 4.83082412e-01],\n",
       "       [2.15301420e-01, 7.84698580e-01],\n",
       "       [9.99160401e-01, 8.39599263e-04],\n",
       "       [9.90936266e-01, 9.06373375e-03],\n",
       "       [9.94348226e-01, 5.65177373e-03],\n",
       "       [9.99714463e-01, 2.85536782e-04],\n",
       "       [9.99610580e-01, 3.89420305e-04],\n",
       "       [9.99708932e-01, 2.91067668e-04],\n",
       "       [1.73747588e-02, 9.82625241e-01],\n",
       "       [1.26961840e-02, 9.87303816e-01],\n",
       "       [9.98359911e-01, 1.64008888e-03],\n",
       "       [9.99749042e-01, 2.50957602e-04],\n",
       "       [3.54632580e-03, 9.96453674e-01],\n",
       "       [3.95008186e-01, 6.04991814e-01],\n",
       "       [9.41439344e-01, 5.85606560e-02],\n",
       "       [3.73242858e-02, 9.62675714e-01],\n",
       "       [1.84464607e-03, 9.98155354e-01],\n",
       "       [1.53866024e-01, 8.46133976e-01],\n",
       "       [1.65874223e-01, 8.34125777e-01],\n",
       "       [2.44201126e-01, 7.55798874e-01],\n",
       "       [2.04974432e-01, 7.95025568e-01],\n",
       "       [7.14992256e-03, 9.92850077e-01],\n",
       "       [3.27373380e-02, 9.67262662e-01],\n",
       "       [4.83465177e-01, 5.16534823e-01],\n",
       "       [9.98954813e-01, 1.04518747e-03],\n",
       "       [9.99821119e-01, 1.78880653e-04],\n",
       "       [9.97793288e-01, 2.20671183e-03],\n",
       "       [9.99670429e-01, 3.29571010e-04],\n",
       "       [3.73884995e-01, 6.26115005e-01],\n",
       "       [2.72968714e-01, 7.27031286e-01],\n",
       "       [8.15791169e-03, 9.91842088e-01],\n",
       "       [2.54099198e-02, 9.74590080e-01],\n",
       "       [9.91182147e-01, 8.81785252e-03],\n",
       "       [9.99181214e-01, 8.18786140e-04],\n",
       "       [2.29950485e-01, 7.70049515e-01],\n",
       "       [1.51312355e-01, 8.48687645e-01],\n",
       "       [1.66524659e-01, 8.33475341e-01],\n",
       "       [5.39087553e-01, 4.60912447e-01],\n",
       "       [2.15564921e-01, 7.84435079e-01],\n",
       "       [2.02216896e-02, 9.79778310e-01],\n",
       "       [5.96795286e-01, 4.03204714e-01],\n",
       "       [9.89954812e-01, 1.00451884e-02],\n",
       "       [6.69880533e-02, 9.33011947e-01],\n",
       "       [9.97863264e-01, 2.13673551e-03],\n",
       "       [9.99875729e-01, 1.24271359e-04],\n",
       "       [9.97364089e-01, 2.63591144e-03],\n",
       "       [9.99867433e-01, 1.32566917e-04],\n",
       "       [9.98573472e-01, 1.42652763e-03],\n",
       "       [3.74858222e-03, 9.96251418e-01],\n",
       "       [9.99261028e-01, 7.38972404e-04],\n",
       "       [1.09243941e-01, 8.90756059e-01],\n",
       "       [9.99834281e-01, 1.65719006e-04],\n",
       "       [2.89997458e-01, 7.10002542e-01],\n",
       "       [3.15321805e-02, 9.68467819e-01],\n",
       "       [9.92614513e-01, 7.38548652e-03],\n",
       "       [9.99430894e-01, 5.69105875e-04],\n",
       "       [5.36773577e-03, 9.94632264e-01],\n",
       "       [5.88302785e-03, 9.94116972e-01],\n",
       "       [7.71432692e-02, 9.22856731e-01],\n",
       "       [4.64149484e-02, 9.53585052e-01],\n",
       "       [3.31698297e-01, 6.68301703e-01],\n",
       "       [9.99772403e-01, 2.27597285e-04],\n",
       "       [1.47202913e-02, 9.85279709e-01],\n",
       "       [2.98848948e-02, 9.70115105e-01],\n",
       "       [9.97144451e-01, 2.85554934e-03],\n",
       "       [3.15085153e-01, 6.84914847e-01],\n",
       "       [4.02776503e-02, 9.59722350e-01],\n",
       "       [1.78567458e-02, 9.82143254e-01],\n",
       "       [9.57006147e-01, 4.29938531e-02],\n",
       "       [2.87000814e-03, 9.97129992e-01],\n",
       "       [9.93149618e-01, 6.85038156e-03],\n",
       "       [6.01610160e-01, 3.98389840e-01],\n",
       "       [1.33793626e-01, 8.66206374e-01],\n",
       "       [3.07250861e-03, 9.96927491e-01],\n",
       "       [9.98550522e-01, 1.44947814e-03],\n",
       "       [9.89705630e-01, 1.02943703e-02],\n",
       "       [1.78878912e-02, 9.82112109e-01],\n",
       "       [1.95733021e-02, 9.80426698e-01],\n",
       "       [9.09038816e-03, 9.90909612e-01],\n",
       "       [1.09734966e-02, 9.89026503e-01],\n",
       "       [1.56565787e-02, 9.84343421e-01],\n",
       "       [9.07404871e-01, 9.25951286e-02],\n",
       "       [8.46284298e-01, 1.53715702e-01],\n",
       "       [9.77218926e-01, 2.27810737e-02],\n",
       "       [3.46817544e-04, 9.99653182e-01],\n",
       "       [2.69832752e-03, 9.97301672e-01],\n",
       "       [3.95178439e-01, 6.04821561e-01],\n",
       "       [9.99373214e-01, 6.26786275e-04],\n",
       "       [1.05091507e-03, 9.98949085e-01],\n",
       "       [9.98473718e-01, 1.52628213e-03],\n",
       "       [9.99623203e-01, 3.76796674e-04],\n",
       "       [2.27240076e-01, 7.72759924e-01],\n",
       "       [7.55337034e-01, 2.44662966e-01],\n",
       "       [1.58789852e-02, 9.84121015e-01],\n",
       "       [9.99314730e-01, 6.85270102e-04],\n",
       "       [9.85246995e-01, 1.47530051e-02],\n",
       "       [9.99289832e-01, 7.10167915e-04],\n",
       "       [3.40431595e-02, 9.65956841e-01],\n",
       "       [9.98956631e-01, 1.04336938e-03],\n",
       "       [8.64127200e-01, 1.35872800e-01],\n",
       "       [2.47005498e-02, 9.75299450e-01],\n",
       "       [2.87723444e-03, 9.97122766e-01],\n",
       "       [1.35857180e-02, 9.86414282e-01],\n",
       "       [8.64526678e-01, 1.35473322e-01]])"
      ]
     },
     "execution_count": 53,
     "metadata": {},
     "output_type": "execute_result"
    }
   ],
   "source": [
    "predict_probability = reg.predict_proba(x_test)\n",
    "predict_probability"
   ]
  },
  {
   "cell_type": "code",
   "execution_count": 54,
   "id": "97cb08de",
   "metadata": {},
   "outputs": [
    {
     "data": {
      "text/plain": [
       "(111, 2)"
      ]
     },
     "execution_count": 54,
     "metadata": {},
     "output_type": "execute_result"
    }
   ],
   "source": [
    "predict_probability.shape"
   ]
  },
  {
   "cell_type": "code",
   "execution_count": 55,
   "id": "e1052437",
   "metadata": {},
   "outputs": [
    {
     "data": {
      "text/plain": [
       "array([9.48381401e-01, 3.21092774e-03, 9.96773903e-01, 1.24458369e-01,\n",
       "       7.96232166e-01, 3.38002921e-04, 9.95735402e-01, 4.83082412e-01,\n",
       "       7.84698580e-01, 8.39599263e-04, 9.06373375e-03, 5.65177373e-03,\n",
       "       2.85536782e-04, 3.89420305e-04, 2.91067668e-04, 9.82625241e-01,\n",
       "       9.87303816e-01, 1.64008888e-03, 2.50957602e-04, 9.96453674e-01,\n",
       "       6.04991814e-01, 5.85606560e-02, 9.62675714e-01, 9.98155354e-01,\n",
       "       8.46133976e-01, 8.34125777e-01, 7.55798874e-01, 7.95025568e-01,\n",
       "       9.92850077e-01, 9.67262662e-01, 5.16534823e-01, 1.04518747e-03,\n",
       "       1.78880653e-04, 2.20671183e-03, 3.29571010e-04, 6.26115005e-01,\n",
       "       7.27031286e-01, 9.91842088e-01, 9.74590080e-01, 8.81785252e-03,\n",
       "       8.18786140e-04, 7.70049515e-01, 8.48687645e-01, 8.33475341e-01,\n",
       "       4.60912447e-01, 7.84435079e-01, 9.79778310e-01, 4.03204714e-01,\n",
       "       1.00451884e-02, 9.33011947e-01, 2.13673551e-03, 1.24271359e-04,\n",
       "       2.63591144e-03, 1.32566917e-04, 1.42652763e-03, 9.96251418e-01,\n",
       "       7.38972404e-04, 8.90756059e-01, 1.65719006e-04, 7.10002542e-01,\n",
       "       9.68467819e-01, 7.38548652e-03, 5.69105875e-04, 9.94632264e-01,\n",
       "       9.94116972e-01, 9.22856731e-01, 9.53585052e-01, 6.68301703e-01,\n",
       "       2.27597285e-04, 9.85279709e-01, 9.70115105e-01, 2.85554934e-03,\n",
       "       6.84914847e-01, 9.59722350e-01, 9.82143254e-01, 4.29938531e-02,\n",
       "       9.97129992e-01, 6.85038156e-03, 3.98389840e-01, 8.66206374e-01,\n",
       "       9.96927491e-01, 1.44947814e-03, 1.02943703e-02, 9.82112109e-01,\n",
       "       9.80426698e-01, 9.90909612e-01, 9.89026503e-01, 9.84343421e-01,\n",
       "       9.25951286e-02, 1.53715702e-01, 2.27810737e-02, 9.99653182e-01,\n",
       "       9.97301672e-01, 6.04821561e-01, 6.26786275e-04, 9.98949085e-01,\n",
       "       1.52628213e-03, 3.76796674e-04, 7.72759924e-01, 2.44662966e-01,\n",
       "       9.84121015e-01, 6.85270102e-04, 1.47530051e-02, 7.10167915e-04,\n",
       "       9.65956841e-01, 1.04336938e-03, 1.35872800e-01, 9.75299450e-01,\n",
       "       9.97122766e-01, 9.86414282e-01, 1.35473322e-01])"
      ]
     },
     "execution_count": 55,
     "metadata": {},
     "output_type": "execute_result"
    }
   ],
   "source": [
    "predict_probability[ : , 1]"
   ]
  },
  {
   "cell_type": "markdown",
   "id": "54cbaefc",
   "metadata": {},
   "source": [
    "Saving the model"
   ]
  },
  {
   "cell_type": "code",
   "execution_count": 56,
   "id": "bec5ff78",
   "metadata": {},
   "outputs": [],
   "source": [
    "import pickle"
   ]
  },
  {
   "cell_type": "code",
   "execution_count": 57,
   "id": "0b6b2b81",
   "metadata": {},
   "outputs": [],
   "source": [
    "with open('model', 'wb') as file:\n",
    "    pickle.dump(reg, file)"
   ]
  },
  {
   "cell_type": "code",
   "execution_count": 60,
   "id": "4ef31fa5",
   "metadata": {},
   "outputs": [],
   "source": [
    "with open('scaler.pkl', 'wb') as file:\n",
    "    pickle.dump(running_scaler, file)"
   ]
  },
  {
   "cell_type": "markdown",
   "id": "1da75542",
   "metadata": {},
   "source": [
    "LinkedIn\n",
    "Ismael (Ishmael T.) Ngobeni"
   ]
  }
 ],
 "metadata": {
  "kernelspec": {
   "display_name": "Python 3 (ipykernel)",
   "language": "python",
   "name": "python3"
  },
  "language_info": {
   "codemirror_mode": {
    "name": "ipython",
    "version": 3
   },
   "file_extension": ".py",
   "mimetype": "text/x-python",
   "name": "python",
   "nbconvert_exporter": "python",
   "pygments_lexer": "ipython3",
   "version": "3.11.5"
  }
 },
 "nbformat": 4,
 "nbformat_minor": 5
}
